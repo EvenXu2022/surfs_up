{
 "cells": [
  {
   "cell_type": "code",
   "execution_count": 1,
   "metadata": {},
   "outputs": [],
   "source": [
    "%matplotlib inline\n",
    "from matplotlib import style\n",
    "style.use('fivethirtyeight')\n",
    "import matplotlib.pyplot as plt"
   ]
  },
  {
   "cell_type": "code",
   "execution_count": 2,
   "metadata": {},
   "outputs": [],
   "source": [
    "import numpy as np\n",
    "import pandas as pd"
   ]
  },
  {
   "cell_type": "code",
   "execution_count": 3,
   "metadata": {},
   "outputs": [],
   "source": [
    "import datetime as dt"
   ]
  },
  {
   "cell_type": "markdown",
   "metadata": {},
   "source": [
    "# Reflect Tables into SQLAlchemy ORM"
   ]
  },
  {
   "cell_type": "code",
   "execution_count": 4,
   "metadata": {},
   "outputs": [],
   "source": [
    "# Python SQL toolkit and Object Relational Mapper\n",
    "import sqlalchemy\n",
    "from sqlalchemy.ext.automap import automap_base\n",
    "from sqlalchemy.orm import Session\n",
    "from sqlalchemy import create_engine, func, inspect"
   ]
  },
  {
   "cell_type": "code",
   "execution_count": 5,
   "metadata": {},
   "outputs": [
    {
     "data": {
      "text/plain": [
       "['measurement', 'station']"
      ]
     },
     "execution_count": 5,
     "metadata": {},
     "output_type": "execute_result"
    }
   ],
   "source": [
    "engine = create_engine(\"sqlite:///hawaii.sqlite\")\n",
    "inspector = inspect(engine)\n",
    "inspector.get_table_names()"
   ]
  },
  {
   "cell_type": "code",
   "execution_count": null,
   "metadata": {},
   "outputs": [],
   "source": [
    "# reflect an existing database into a new model\n",
    "Base = automap_base()\n",
    "# reflect the tables\n",
    "Base.prepare(engine, reflect=True)"
   ]
  },
  {
   "cell_type": "code",
   "execution_count": null,
   "metadata": {
    "scrolled": true
   },
   "outputs": [],
   "source": [
    "# We can view all of the classes that automap found\n",
    "Base.classes.keys()"
   ]
  },
  {
   "cell_type": "code",
   "execution_count": 7,
   "metadata": {},
   "outputs": [
    {
     "ename": "NameError",
     "evalue": "name 'Base' is not defined",
     "output_type": "error",
     "traceback": [
      "\u001b[1;31m---------------------------------------------------------------------------\u001b[0m",
      "\u001b[1;31mNameError\u001b[0m                                 Traceback (most recent call last)",
      "Input \u001b[1;32mIn [7]\u001b[0m, in \u001b[0;36m<cell line: 2>\u001b[1;34m()\u001b[0m\n\u001b[0;32m      1\u001b[0m \u001b[38;5;66;03m# Save references to each table\u001b[39;00m\n\u001b[1;32m----> 2\u001b[0m Measurement \u001b[38;5;241m=\u001b[39m Base\u001b[38;5;241m.\u001b[39mclasses\u001b[38;5;241m.\u001b[39mmeasurement\n\u001b[0;32m      3\u001b[0m Station \u001b[38;5;241m=\u001b[39m Base\u001b[38;5;241m.\u001b[39mclasses\u001b[38;5;241m.\u001b[39mstation\n\u001b[0;32m      4\u001b[0m inspector \u001b[38;5;241m=\u001b[39m inspect(engine)\n",
      "\u001b[1;31mNameError\u001b[0m: name 'Base' is not defined"
     ]
    }
   ],
   "source": [
    "# Save references to each table\n",
    "Measurement = Base.classes.measurement\n",
    "Station = Base.classes.station\n",
    "inspector = inspect(engine)\n",
    "# columns = inspector.get_columns('Station')\n",
    "# for c in columns:\n",
    "#     print(c['name'], c[\"type\"])\n",
    "columns = inspector.get_columns('Measurement')\n",
    "for c in columns:\n",
    "    print(c['name'], c[\"type\"])\n",
    "# engine.execute('SELECT * FROM Measurement LIMIT 5').fetchall()"
   ]
  },
  {
   "cell_type": "code",
   "execution_count": null,
   "metadata": {},
   "outputs": [],
   "source": [
    "# Create our session (link) from Python to the DB\n",
    "session = Session(engine)"
   ]
  },
  {
   "cell_type": "markdown",
   "metadata": {},
   "source": [
    "# Exploratory Climate Analysis"
   ]
  },
  {
   "cell_type": "code",
   "execution_count": null,
   "metadata": {},
   "outputs": [],
   "source": [
    "# Design a query to retrieve the last 12 months of precipitation data and plot the results. \n",
    "#Starting from the last data point in the database. \n",
    "cur_year = dt.date(2017,8,23)\n",
    "\n",
    "# Calculate the date one year from the last date in data set\n",
    "prev_year = cur_year - dt.timedelta(days = 365)\n",
    "prev_year\n",
    "# Perform a query to retrieve the data and precipitation scores\n",
    "results = session.query(Measurement.date,Measurement.prcp).filter(Measurement.date>=prev_year).all()\n",
    "# Save the query results as a Pandas DataFrame and set the index to the date column\n",
    "df = pd.DataFrame(results, columns = ['date','precipitation'])\n",
    "# Sort the dataframe by date\n",
    "df.set_index(df['date'],inplace = True)\n",
    "# print(df.to_string(index=False))\n",
    "df = df.sort_index()\n",
    "df\n",
    "# Use Pandas Plotting with Matplotlib to plot the data\n",
    "df.plot(rot='vertical',fontsize = 10)"
   ]
  },
  {
   "cell_type": "code",
   "execution_count": null,
   "metadata": {},
   "outputs": [],
   "source": [
    "# Use Pandas to calcualte the summary statistics for the precipitation data\n",
    "df.describe()"
   ]
  },
  {
   "cell_type": "code",
   "execution_count": null,
   "metadata": {},
   "outputs": [],
   "source": [
    "# How many stations are available in this dataset?\n",
    "session.query(func.count(Station.station)).all()"
   ]
  },
  {
   "cell_type": "code",
   "execution_count": null,
   "metadata": {},
   "outputs": [],
   "source": [
    "# What are the most active stations?\n",
    "# List the stations and the counts in descending order.\n",
    "session.query(Measurement.station,func.count(Measurement.station)).\\\n",
    "    group_by(Measurement.station).order_by(func.count(Measurement.station).desc()).all()"
   ]
  },
  {
   "cell_type": "code",
   "execution_count": null,
   "metadata": {},
   "outputs": [],
   "source": [
    "# Using the station id from the previous query, calculate the lowest temperature recorded, \n",
    "# highest temperature recorded, and average temperature most active station?\n",
    "session.query(func.min(Measurement.tobs), func.max(Measurement.tobs),func.avg(Measurement.tobs)).\\\n",
    "              filter(Measurement.station =='USC00519281').all()"
   ]
  },
  {
   "cell_type": "code",
   "execution_count": null,
   "metadata": {},
   "outputs": [],
   "source": [
    "# Choose the station with the highest number of temperature observations.\n",
    "# Query the last 12 months of temperature observation data for this station and plot the results as a histogram\n",
    "results = session.query(Measurement.tobs).\\\n",
    "filter(Measurement.station =='USC00519281').\\\n",
    "filter(Measurement.date >=prev_year).all()\n",
    "df_station = pd.DataFrame(results,columns = ['tobs'])\n",
    "df_station.plot.hist(bins=20)\n",
    "plt.tight_layout()"
   ]
  },
  {
   "cell_type": "code",
   "execution_count": null,
   "metadata": {},
   "outputs": [],
   "source": [
    "# Write a function called `calc_temps` that will accept start date and end date in the format '%Y-%m-%d' \n",
    "# and return the minimum, average, and maximum temperatures for that range of dates\n",
    "def calc_temps(st_date, end_date):\n",
    "    minimum = session.query(func.min(Measurement.tobs)).\\\n",
    "    filter(func.strftime('%Y-%m-%d',Measurement.date)>= st_date,func.strftime('%Y-%m-%d',Measurement.date)<= end_date).all()\n",
    "    maximum = session.query(func.max(Measurement.tobs)).\\\n",
    "    filter(func.strftime('%Y-%m-%d',Measurement.date)>= st_date,func.strftime('%Y-%m-%d',Measurement.date)<= end_date).all()\n",
    "    average = session.query(func.avg(Measurement.tobs)).\\\n",
    "    filter(func.strftime('%Y-%m-%d',Measurement.date)>= st_date,func.strftime('%Y-%m-%d',Measurement.date)<= end_date).all()\n",
    "    length = len(session.query(Measurement.tobs).\\\n",
    "    filter(func.strftime('%Y-%m-%d',Measurement.date)>= st_date,func.strftime('%Y-%m-%d',Measurement.date)<= end_date).all())\n",
    "    return minimum, maximum, average,length\n",
    "calc_temps('2017-06-23', '2017-07-23')"
   ]
  },
  {
   "cell_type": "markdown",
   "metadata": {},
   "source": [
    "# Challenge"
   ]
  },
  {
   "cell_type": "code",
   "execution_count": null,
   "metadata": {},
   "outputs": [],
   "source": [
    "session.query(func.count(Measurement.date)).all()"
   ]
  },
  {
   "cell_type": "code",
   "execution_count": null,
   "metadata": {},
   "outputs": [],
   "source": [
    "session.query(Measurement.date).order_by(Measurement.date.desc()).first()"
   ]
  },
  {
   "cell_type": "code",
   "execution_count": null,
   "metadata": {},
   "outputs": [],
   "source": [
    "test = session.query(Measurement.date).\\\n",
    "    filter(Measurement.date>'2016-08-23', Measurement.date<'2017-06-23').order_by(Measurement.date).all()\n",
    "len(test)"
   ]
  },
  {
   "cell_type": "code",
   "execution_count": null,
   "metadata": {},
   "outputs": [],
   "source": [
    "import datetime as dt\n",
    "print (dt.date.today())"
   ]
  },
  {
   "cell_type": "code",
   "execution_count": null,
   "metadata": {},
   "outputs": [],
   "source": [
    "print(dt.date(2017,10,8))"
   ]
  },
  {
   "cell_type": "code",
   "execution_count": null,
   "metadata": {},
   "outputs": [],
   "source": [
    "d = dt.date(input(\"what is the date\")).strftime('%Y-%m-%d')"
   ]
  },
  {
   "cell_type": "code",
   "execution_count": null,
   "metadata": {},
   "outputs": [],
   "source": [
    "date_str = input(f\"What is the date:\")"
   ]
  },
  {
   "cell_type": "code",
   "execution_count": null,
   "metadata": {},
   "outputs": [],
   "source": [
    "date_str"
   ]
  },
  {
   "cell_type": "code",
   "execution_count": null,
   "metadata": {},
   "outputs": [],
   "source": [
    "session.query(Measurement.date).\\\n",
    "filter(func.strftime('%Y-%m-%d',Measurement.date) == date_str).all()"
   ]
  },
  {
   "cell_type": "code",
   "execution_count": null,
   "metadata": {},
   "outputs": [],
   "source": []
  }
 ],
 "metadata": {
  "kernelspec": {
   "display_name": "Pythondata",
   "language": "python",
   "name": "pythondata"
  },
  "language_info": {
   "codemirror_mode": {
    "name": "ipython",
    "version": 3
   },
   "file_extension": ".py",
   "mimetype": "text/x-python",
   "name": "python",
   "nbconvert_exporter": "python",
   "pygments_lexer": "ipython3",
   "version": "3.9.7"
  }
 },
 "nbformat": 4,
 "nbformat_minor": 2
}
